{
 "cells": [
  {
   "cell_type": "code",
   "execution_count": 2,
   "metadata": {},
   "outputs": [],
   "source": [
    "import h5py\n",
    "from itertools import product\n",
    "import pandas as pd\n",
    "import numpy as np\n",
    "import requests"
   ]
  },
  {
   "cell_type": "code",
   "execution_count": 3,
   "metadata": {},
   "outputs": [],
   "source": [
    "baseUrl = 'http://www.illustris-project.org/api/'\n",
    "headers = {\"api-key\":\"7a2f32cbf6bba4a993ce194c6ca7b7be\"}\n",
    "def get(path, params=None):\n",
    "    # make HTTP GET request to path\n",
    "    r = requests.get(path, params=params, headers=headers)\n",
    "\n",
    "     # raise exception if response code is not HTTP SUCCESS (200)\n",
    "    r.raise_for_status()\n",
    "\n",
    "    if r.headers['content-type'] == 'application/json':\n",
    "         return r.json() # parse json responses automatically\n",
    "    return r"
   ]
  },
  {
   "cell_type": "code",
   "execution_count": 4,
   "metadata": {},
   "outputs": [
    {
     "data": {
      "text/plain": [
       "{'simulation': 'http://www.illustris-project.org/api/Illustris-1/',\n",
       " 'number': 135,\n",
       " 'redshift': 2.2204460492503099e-16,\n",
       " 'num_gas': 5268982240,\n",
       " 'num_dm': 6028568000,\n",
       " 'num_trmc': 6028568000,\n",
       " 'num_stars': 606875892,\n",
       " 'num_bhs': 32552,\n",
       " 'num_groups_fof': 7713601,\n",
       " 'num_groups_subfind': 4366546,\n",
       " 'num_groups_rockstar': 0,\n",
       " 'filesize_snapshot': 1641304217072.0,\n",
       " 'filesize_groupcat': 4812516112.0,\n",
       " 'filesize_rockstar': 0.0,\n",
       " 'url': 'http://www.illustris-project.org/api/Illustris-1/snapshots/135/',\n",
       " 'subhalos': 'http://www.illustris-project.org/api/Illustris-1/snapshots/135/subhalos/',\n",
       " 'vis': {'groupcat_sfms': 'http://www.illustris-project.org/api/Illustris-1/snapshots/135/subhalos/plot.png?xQuant=mstar2_log&yQuant=ssfr&xlim=9.0%2C11.0',\n",
       "  'groupcat_sizemass': 'http://www.illustris-project.org/api/Illustris-1/snapshots/135/subhalos/plot.png?xQuant=mstar2_log&yQuant=size_stars',\n",
       "  'groupcat_mz_gas': 'http://www.illustris-project.org/api/Illustris-1/snapshots/135/subhalos/plot.png?xQuant=mstar2_log&yQuant=Z_gas',\n",
       "  'groupcat_mz_stars': 'http://www.illustris-project.org/api/Illustris-1/snapshots/135/subhalos/plot.png?xQuant=mstar2_log&yQuant=Z_stars',\n",
       "  'groupcat_mstar_mhalo': 'http://www.illustris-project.org/api/Illustris-1/snapshots/135/subhalos/plot.png?xQuant=mhalo_200_log&yQuant=mstar2_log',\n",
       "  'groupcat_smhm': 'http://www.illustris-project.org/api/Illustris-1/snapshots/135/subhalos/plot.png?xQuant=mhalo_200_log&yQuant=mstar2_mhalo200_ratio&xlim=10.0%2C14.5',\n",
       "  'groupcat_halo_sizemass': 'http://www.illustris-project.org/api/Illustris-1/snapshots/135/subhalos/plot.png?xQuant=mhalo_200_log&yQuant=rhalo_200&xlim=9.0%2C15.0',\n",
       "  'groupcat_fmr': 'http://www.illustris-project.org/api/Illustris-1/snapshots/135/subhalos/plot.png?xQuant=mstar2_log&yQuant=delta_sfms&cQuant=Z_gas&xlim=8.5%2C11.0&ylim=-1.5%2C1.5&cRel=0.7%2C1.3'},\n",
       " 'files': {'snapshot': 'http://www.illustris-project.org/api/Illustris-1/files/snapshot-135/',\n",
       "  'groupcat': 'http://www.illustris-project.org/api/Illustris-1/files/groupcat-135/'}}"
      ]
     },
     "execution_count": 4,
     "metadata": {},
     "output_type": "execute_result"
    }
   ],
   "source": [
    "r = get(baseUrl)\n",
    "names = [sim['name'] for sim in r['simulations']]\n",
    "i = names.index('Illustris-1')\n",
    "sim = get( r['simulations'][i]['url'] )\n",
    "snaps = get( sim['snapshots'] )\n",
    "snap = get( snaps[-1]['url'] )\n",
    "snap"
   ]
  },
  {
   "cell_type": "code",
   "execution_count": 5,
   "metadata": {},
   "outputs": [],
   "source": [
    "subs = get( snap['subhalos'] )"
   ]
  },
  {
   "cell_type": "code",
   "execution_count": 6,
   "metadata": {},
   "outputs": [],
   "source": [
    "def get(path, params=None):\n",
    "     # make HTTP GET request to path\n",
    "     r = requests.get(path, params=params, headers=headers)\n",
    "\n",
    "     # raise exception if response code is not HTTP SUCCESS (200)\n",
    "     r.raise_for_status()\n",
    "\n",
    "     if r.headers['content-type'] == 'application/json':\n",
    "         return r.json() # parse json responses automatically\n",
    "\n",
    "     if 'content-disposition' in r.headers:\n",
    "         filename = r.headers['content-disposition'].split(\"filename=\")[1]\n",
    "         with open(filename, 'wb') as f:\n",
    "             f.write(r.content)\n",
    "         return filename # return the filename string\n",
    "\n",
    "     return r"
   ]
  },
  {
   "cell_type": "markdown",
   "metadata": {},
   "source": [
    "# Cuentas Subhalos"
   ]
  },
  {
   "cell_type": "code",
   "execution_count": 7,
   "metadata": {},
   "outputs": [],
   "source": [
    "cd cosmo_full"
   ]
  },
  {
   "cell_type": "code",
   "execution_count": null,
   "metadata": {},
   "outputs": [],
   "source": [
    "e=0.0001\n",
    "\n",
    "output_grid='Full_zeros.npy'\n",
    "#raw_data='cosmo_fullm'\n",
    "raw_data = subs\n",
    "\n",
    "out_data='cosmo_full/arrays/'\n",
    "\n",
    "\n",
    "def process(postable):\n",
    "    postable['x_b']=np.floor(postable['x']/((75000+e)/1024))\n",
    "    postable['y_b']=np.floor(postable['y']/((75000+e)/1024))\n",
    "    postable['z_b']=np.floor(postable['z']/((75000+e)/1024))\n",
    "    postable['x_b'] = postable['x_b'].astype(int)\n",
    "    postable['y_b'] = postable['y_b'].astype(int)\n",
    "    postable['z_b'] = postable['z_b'].astype(int)\n",
    "    return postable\n",
    "\n",
    "np.save(output_grid,np.zeros((1024,1024,1024)))\n",
    "\n",
    "for i in range(1):\n",
    "    filename = get(get(raw_data['results'][i]['url'])['trees']['sublink_mpb'])\n",
    "    f = h5py.File(filename, 'r')\n",
    "    position=np.array(f['SubhaloPos'])\n",
    "    if len(position)==0:\n",
    "        pass\n",
    "    postable=pd.DataFrame(position)\n",
    "    postable.columns=(['x','y','z'])\n",
    "    mergetable=process(postable) \n",
    "    mergetable['c']=1\n",
    "    def dataframe_to_array(df, out_shp):\n",
    "        ids = np.ravel_multi_index(df[['x_b','y_b','z_b']].values.T, out_shp)\n",
    "        val = df['count'].values\n",
    "        return np.bincount(ids, val, minlength=np.prod(out_shp)).reshape(out_shp)\n",
    "\n",
    "    counts=mergetable.groupby(['x_b','y_b','z_b'])['c'].count().reset_index(name=\"count\")\n",
    "    arr=dataframe_to_array(counts, (1024,1024,1024))\n",
    "    old_arr=np.load(output_grid)\n",
    "    np.save(output_grid,old_arr+arr)\n",
    "    print('finished: '+filename)\n",
    "\n",
    "\n",
    "\n",
    "pos=list(np.arange(0,1024,32))\n",
    "ranges=list(product(pos,repeat=3))\n",
    "print('Generating subboxes....')\n",
    "out = np.load(output_grid)\n",
    "for ID in ranges:\n",
    "    f_box=out[ID[0]:ID[0]+32,ID[1]:ID[1]+32,ID[2]:ID[2]+32]\n",
    "    np.save(out_data+str(ID[0])+'_'+str(ID[1])+'_'+str(ID[2])+'.npy',f_box)\n",
    "print('All finished')"
   ]
  }
 ],
 "metadata": {
  "kernelspec": {
   "display_name": "Python 3",
   "language": "python",
   "name": "python3"
  },
  "language_info": {
   "codemirror_mode": {
    "name": "ipython",
    "version": 3
   },
   "file_extension": ".py",
   "mimetype": "text/x-python",
   "name": "python",
   "nbconvert_exporter": "python",
   "pygments_lexer": "ipython3",
   "version": "3.8.5"
  }
 },
 "nbformat": 4,
 "nbformat_minor": 4
}
